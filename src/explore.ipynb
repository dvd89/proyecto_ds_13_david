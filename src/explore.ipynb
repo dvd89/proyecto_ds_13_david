{
    "cells": [
        {
            "cell_type": "markdown",
            "metadata": {},
            "source": [
                "# **Análisis Predictivo y Descriptivo del Impacto de Factores Demográficos y Económicos en los Niveles de Ingresos en Canadá**"
            ]
        },
        {
            "cell_type": "markdown",
            "metadata": {},
            "source": [
                "# Paso 1: definición del problema.\n",
                "## Este proyecto tiene el potencial de ofrecer insights valiosos para diseñar políticas públicas, programas sociales y estrategias individuales para mejorar la movilidad económica\n",
                "## Objetivos\n",
                "- Objetivo General:\n",
                "  Analizar y predecir los factores clave que influyen en los niveles de ingresos y el bienestar \n",
                "financiero en Canadá.\n",
                "- Objetivos Específicos:\n",
                "  1. Identificar las variables más relevantes que afectan los ingresos mediante técnicas de selección \n",
                "de características.\n",
                "  2. Predecir los ingresos individuales utilizando modelos de Machine Learning supervisado.\n",
                "  3. Visualizar las desigualdades regionales y por grupo demográfico en el bienestar financiero."
            ]
        },
        {
            "cell_type": "markdown",
            "metadata": {},
            "source": [
                "Importación de las librerías necesarias"
            ]
        },
        {
            "cell_type": "code",
            "execution_count": null,
            "metadata": {},
            "outputs": [],
            "source": [
                "# Librería para la declaración y uso de Data Frames:\n",
                "import pandas as pd\n",
                "\n",
                "# Librería para realizar operaciones matemáticas: \n",
                "import numpy as np\n",
                "\n",
                "# Librería para visualizar datos estadísticos: \n",
                "import seaborn as sns\n",
                "\n",
                "# Librería para trazar gráficos:\n",
                "import matplotlib.pyplot as plt\n",
                "\n",
                "\n",
                "import os\n"
            ]
        },
        {
            "cell_type": "markdown",
            "metadata": {},
            "source": [
                "# Paso 2. Lectura de datos.\n"
            ]
        },
        {
            "cell_type": "code",
            "execution_count": 2,
            "metadata": {},
            "outputs": [
                {
                    "name": "stdout",
                    "output_type": "stream",
                    "text": [
                        "Path to dataset files: /home/vscode/.cache/kagglehub/datasets/aradhanahirapara/income-survey-finance-analysis/versions/1\n"
                    ]
                }
            ],
            "source": [
                "# Importamos el dataset público.\n",
                "\n",
                "import kagglehub\n",
                "\n",
                "path = kagglehub.dataset_download(\"aradhanahirapara/income-survey-finance-analysis\")\n",
                "\n",
                "print(\"Path to dataset files:\", path)"
            ]
        },
        {
            "cell_type": "code",
            "execution_count": 3,
            "metadata": {},
            "outputs": [
                {
                    "name": "stdout",
                    "output_type": "stream",
                    "text": [
                        "Archivos en el dataset: ['Income Survey Dataset.csv', 'Income_Dataset_Dictionary.docx']\n"
                    ]
                }
            ],
            "source": [
                "# Lista los archivos en la ruta\n",
                "\n",
                "files = os.listdir(path)\n",
                "print(\"Archivos en el dataset:\", files)\n"
            ]
        },
        {
            "cell_type": "code",
            "execution_count": 4,
            "metadata": {},
            "outputs": [
                {
                    "data": {
                        "text/html": [
                            "<div>\n",
                            "<style scoped>\n",
                            "    .dataframe tbody tr th:only-of-type {\n",
                            "        vertical-align: middle;\n",
                            "    }\n",
                            "\n",
                            "    .dataframe tbody tr th {\n",
                            "        vertical-align: top;\n",
                            "    }\n",
                            "\n",
                            "    .dataframe thead th {\n",
                            "        text-align: right;\n",
                            "    }\n",
                            "</style>\n",
                            "<table border=\"1\" class=\"dataframe\">\n",
                            "  <thead>\n",
                            "    <tr style=\"text-align: right;\">\n",
                            "      <th></th>\n",
                            "      <th>PersonID</th>\n",
                            "      <th>Weight</th>\n",
                            "      <th>Province</th>\n",
                            "      <th>MBMREGP</th>\n",
                            "      <th>Age_gap</th>\n",
                            "      <th>Gender</th>\n",
                            "      <th>Marital_status</th>\n",
                            "      <th>Highschool</th>\n",
                            "      <th>Highest_edu</th>\n",
                            "      <th>Work_ref</th>\n",
                            "      <th>...</th>\n",
                            "      <th>Pension</th>\n",
                            "      <th>Self_emp_income.1</th>\n",
                            "      <th>Total_income</th>\n",
                            "      <th>Emp_insurance</th>\n",
                            "      <th>Salary_wages</th>\n",
                            "      <th>compensation</th>\n",
                            "      <th>Family_mem</th>\n",
                            "      <th>CFCOMP</th>\n",
                            "      <th>CONDMP</th>\n",
                            "      <th>RENTM</th>\n",
                            "    </tr>\n",
                            "  </thead>\n",
                            "  <tbody>\n",
                            "    <tr>\n",
                            "      <th>0</th>\n",
                            "      <td>1</td>\n",
                            "      <td>139.6500</td>\n",
                            "      <td>59</td>\n",
                            "      <td>38</td>\n",
                            "      <td>15</td>\n",
                            "      <td>2</td>\n",
                            "      <td>3</td>\n",
                            "      <td>1</td>\n",
                            "      <td>3</td>\n",
                            "      <td>2</td>\n",
                            "      <td>...</td>\n",
                            "      <td>0</td>\n",
                            "      <td>0</td>\n",
                            "      <td>20275</td>\n",
                            "      <td>0</td>\n",
                            "      <td>0</td>\n",
                            "      <td>0</td>\n",
                            "      <td>1</td>\n",
                            "      <td>1</td>\n",
                            "      <td>99999996</td>\n",
                            "      <td>99999996</td>\n",
                            "    </tr>\n",
                            "    <tr>\n",
                            "      <th>1</th>\n",
                            "      <td>2</td>\n",
                            "      <td>254.1041</td>\n",
                            "      <td>35</td>\n",
                            "      <td>17</td>\n",
                            "      <td>9</td>\n",
                            "      <td>1</td>\n",
                            "      <td>1</td>\n",
                            "      <td>1</td>\n",
                            "      <td>2</td>\n",
                            "      <td>1</td>\n",
                            "      <td>...</td>\n",
                            "      <td>0</td>\n",
                            "      <td>0</td>\n",
                            "      <td>110875</td>\n",
                            "      <td>0</td>\n",
                            "      <td>106000</td>\n",
                            "      <td>0</td>\n",
                            "      <td>4</td>\n",
                            "      <td>4</td>\n",
                            "      <td>99999996</td>\n",
                            "      <td>99999996</td>\n",
                            "    </tr>\n",
                            "    <tr>\n",
                            "      <th>2</th>\n",
                            "      <td>3</td>\n",
                            "      <td>254.1041</td>\n",
                            "      <td>35</td>\n",
                            "      <td>17</td>\n",
                            "      <td>9</td>\n",
                            "      <td>2</td>\n",
                            "      <td>1</td>\n",
                            "      <td>1</td>\n",
                            "      <td>3</td>\n",
                            "      <td>1</td>\n",
                            "      <td>...</td>\n",
                            "      <td>0</td>\n",
                            "      <td>0</td>\n",
                            "      <td>110875</td>\n",
                            "      <td>0</td>\n",
                            "      <td>106000</td>\n",
                            "      <td>0</td>\n",
                            "      <td>4</td>\n",
                            "      <td>4</td>\n",
                            "      <td>99999996</td>\n",
                            "      <td>99999996</td>\n",
                            "    </tr>\n",
                            "    <tr>\n",
                            "      <th>3</th>\n",
                            "      <td>4</td>\n",
                            "      <td>254.1041</td>\n",
                            "      <td>35</td>\n",
                            "      <td>17</td>\n",
                            "      <td>4</td>\n",
                            "      <td>1</td>\n",
                            "      <td>4</td>\n",
                            "      <td>2</td>\n",
                            "      <td>1</td>\n",
                            "      <td>1</td>\n",
                            "      <td>...</td>\n",
                            "      <td>0</td>\n",
                            "      <td>0</td>\n",
                            "      <td>110875</td>\n",
                            "      <td>0</td>\n",
                            "      <td>106000</td>\n",
                            "      <td>0</td>\n",
                            "      <td>4</td>\n",
                            "      <td>4</td>\n",
                            "      <td>99999996</td>\n",
                            "      <td>99999996</td>\n",
                            "    </tr>\n",
                            "    <tr>\n",
                            "      <th>4</th>\n",
                            "      <td>5</td>\n",
                            "      <td>254.1041</td>\n",
                            "      <td>35</td>\n",
                            "      <td>17</td>\n",
                            "      <td>3</td>\n",
                            "      <td>1</td>\n",
                            "      <td>96</td>\n",
                            "      <td>6</td>\n",
                            "      <td>6</td>\n",
                            "      <td>6</td>\n",
                            "      <td>...</td>\n",
                            "      <td>0</td>\n",
                            "      <td>0</td>\n",
                            "      <td>110875</td>\n",
                            "      <td>0</td>\n",
                            "      <td>106000</td>\n",
                            "      <td>0</td>\n",
                            "      <td>4</td>\n",
                            "      <td>4</td>\n",
                            "      <td>99999996</td>\n",
                            "      <td>99999996</td>\n",
                            "    </tr>\n",
                            "  </tbody>\n",
                            "</table>\n",
                            "<p>5 rows × 38 columns</p>\n",
                            "</div>"
                        ],
                        "text/plain": [
                            "   PersonID    Weight  Province  MBMREGP  Age_gap  Gender  Marital_status  \\\n",
                            "0         1  139.6500        59       38       15       2               3   \n",
                            "1         2  254.1041        35       17        9       1               1   \n",
                            "2         3  254.1041        35       17        9       2               1   \n",
                            "3         4  254.1041        35       17        4       1               4   \n",
                            "4         5  254.1041        35       17        3       1              96   \n",
                            "\n",
                            "   Highschool  Highest_edu  Work_ref  ...  Pension  Self_emp_income.1  \\\n",
                            "0           1            3         2  ...        0                  0   \n",
                            "1           1            2         1  ...        0                  0   \n",
                            "2           1            3         1  ...        0                  0   \n",
                            "3           2            1         1  ...        0                  0   \n",
                            "4           6            6         6  ...        0                  0   \n",
                            "\n",
                            "   Total_income  Emp_insurance  Salary_wages  compensation  Family_mem  \\\n",
                            "0         20275              0             0             0           1   \n",
                            "1        110875              0        106000             0           4   \n",
                            "2        110875              0        106000             0           4   \n",
                            "3        110875              0        106000             0           4   \n",
                            "4        110875              0        106000             0           4   \n",
                            "\n",
                            "   CFCOMP    CONDMP     RENTM  \n",
                            "0       1  99999996  99999996  \n",
                            "1       4  99999996  99999996  \n",
                            "2       4  99999996  99999996  \n",
                            "3       4  99999996  99999996  \n",
                            "4       4  99999996  99999996  \n",
                            "\n",
                            "[5 rows x 38 columns]"
                        ]
                    },
                    "execution_count": 4,
                    "metadata": {},
                    "output_type": "execute_result"
                }
            ],
            "source": [
                "# Cargar el archivo CSV en un DataFrame\n",
                "\n",
                "dataset_path = os.path.join(path, \"Income Survey Dataset.csv\")\n",
                "data = pd.read_csv(dataset_path)\n",
                "data.head()\n"
            ]
        },
        {
            "cell_type": "markdown",
            "metadata": {},
            "source": [
                "# Paso 3. Exploración y limpieza de datos.\n",
                "## Paso 3.1 Comprensión de las características."
            ]
        },
        {
            "cell_type": "code",
            "execution_count": 11,
            "metadata": {},
            "outputs": [
                {
                    "name": "stdout",
                    "output_type": "stream",
                    "text": [
                        " El conjunto de datos cuenta con información de 72643 voluntarios, con un total de 38 datos característicos de cada uno de ellos.\n"
                    ]
                }
            ],
            "source": [
                "# Recurrimos al atributo shape para describir la información que contiene:\n",
                "print (f\" El conjunto de datos cuenta con información de {data.shape[0]} voluntarios, con un total de {data.shape[1]} datos característicos de cada uno de ellos.\")"
            ]
        },
        {
            "cell_type": "markdown",
            "metadata": {},
            "source": [
                "## Paso 3.2 Identificación de valores duplicados y nulos."
            ]
        },
        {
            "cell_type": "code",
            "execution_count": 12,
            "metadata": {},
            "outputs": [
                {
                    "name": "stdout",
                    "output_type": "stream",
                    "text": [
                        "<class 'pandas.core.frame.DataFrame'>\n",
                        "RangeIndex: 72643 entries, 0 to 72642\n",
                        "Data columns (total 38 columns):\n",
                        " #   Column             Non-Null Count  Dtype  \n",
                        "---  ------             --------------  -----  \n",
                        " 0   PersonID           72643 non-null  int64  \n",
                        " 1   Weight             72643 non-null  float64\n",
                        " 2   Province           72643 non-null  int64  \n",
                        " 3   MBMREGP            72643 non-null  int64  \n",
                        " 4   Age_gap            72643 non-null  int64  \n",
                        " 5   Gender             72643 non-null  int64  \n",
                        " 6   Marital_status     72643 non-null  int64  \n",
                        " 7   Highschool         72643 non-null  int64  \n",
                        " 8   Highest_edu        72643 non-null  int64  \n",
                        " 9   Work_ref           72643 non-null  int64  \n",
                        " 10  Work_yearly        72643 non-null  int64  \n",
                        " 11  Emp_week_ref       72643 non-null  int64  \n",
                        " 12  Total_hour_ref     72643 non-null  int64  \n",
                        " 13  paid_emp_ref       72643 non-null  int64  \n",
                        " 14  self_emp_ref       72643 non-null  int64  \n",
                        " 15  Immigrant          72643 non-null  int64  \n",
                        " 16  Year_immigrant     72643 non-null  int64  \n",
                        " 17  income_after_tax   72643 non-null  int64  \n",
                        " 18  Cap_gain           72643 non-null  int64  \n",
                        " 19  Childcare_expe     72643 non-null  int64  \n",
                        " 20  Child_benefit      72643 non-null  int64  \n",
                        " 21  CPP_QPP            72643 non-null  int64  \n",
                        " 22  Earning            72643 non-null  int64  \n",
                        " 23  Guaranteed_income  72643 non-null  int64  \n",
                        " 24  Investment         72643 non-null  int64  \n",
                        " 25  Old_age_pension    72643 non-null  int64  \n",
                        " 26  Private_pension    72643 non-null  int64  \n",
                        " 27  Self_emp_income    72643 non-null  int64  \n",
                        " 28  Pension            72643 non-null  int64  \n",
                        " 29  Self_emp_income.1  72643 non-null  int64  \n",
                        " 30  Total_income       72643 non-null  int64  \n",
                        " 31  Emp_insurance      72643 non-null  int64  \n",
                        " 32  Salary_wages       72643 non-null  int64  \n",
                        " 33  compensation       72643 non-null  int64  \n",
                        " 34  Family_mem         72643 non-null  int64  \n",
                        " 35  CFCOMP             72643 non-null  int64  \n",
                        " 36  CONDMP             72643 non-null  int64  \n",
                        " 37  RENTM              72643 non-null  int64  \n",
                        "dtypes: float64(1), int64(37)\n",
                        "memory usage: 21.1 MB\n",
                        "None\n"
                    ]
                }
            ],
            "source": [
                "# Información sobre las columnas\n",
                "print(data.info())"
            ]
        },
        {
            "cell_type": "markdown",
            "metadata": {},
            "source": [
                "- En este punto conocemos que todas las variables son numéricas y por exigencias del proyecto transformaremos una de estas variables (\"Province\") a categórica.\n",
                "- También conocemos que no existen valores nulos"
            ]
        },
        {
            "cell_type": "code",
            "execution_count": null,
            "metadata": {},
            "outputs": [],
            "source": [
                "# Transformamos la variable numérica \"Province\" a categórica.\n",
                "\n",
                "\n",
                "\n",
                "\n",
                "\n",
                "\n",
                "\n",
                "\n",
                "\n",
                "\n",
                "\n",
                "\n",
                "\n"
            ]
        },
        {
            "cell_type": "code",
            "execution_count": 13,
            "metadata": {},
            "outputs": [
                {
                    "name": "stdout",
                    "output_type": "stream",
                    "text": [
                        " Hay un total de 0 valores duplicados.\n"
                    ]
                }
            ],
            "source": [
                "# Se utiliza el método .duplicated() para identificar los valores repetidos dentro del DataFrame:\n",
                "print(f\" Hay un total de {data.duplicated().sum()} valores duplicados.\")"
            ]
        },
        {
            "cell_type": "code",
            "execution_count": null,
            "metadata": {},
            "outputs": [
                {
                    "name": "stdout",
                    "output_type": "stream",
                    "text": [
                        "           PersonID        Weight      Province       MBMREGP       Age_gap  \\\n",
                        "count  72643.000000  72643.000000  72643.000000  72643.000000  72643.000000   \n",
                        "mean   36322.000000    507.016134     34.771458     20.433242      9.038201   \n",
                        "std    20970.372139    622.308449     14.634608     10.755268      4.499854   \n",
                        "min        1.000000     10.856700     10.000000      1.000000      1.000000   \n",
                        "25%    18161.500000    151.937850     24.000000     13.000000      5.000000   \n",
                        "50%    36322.000000    283.111000     35.000000     19.000000     10.000000   \n",
                        "75%    54482.500000    605.346400     47.000000     28.000000     13.000000   \n",
                        "max    72643.000000   8863.955800     59.000000     40.000000     15.000000   \n",
                        "\n",
                        "            Gender  Marital_status    Highschool   Highest_edu      Work_ref  \\\n",
                        "count  72643.00000    72643.000000  72643.000000  72643.000000  72643.000000   \n",
                        "mean       1.51113       21.930881      2.311537      3.525199      2.167284   \n",
                        "std        0.49988       38.486236      2.259477      1.860497      1.826628   \n",
                        "min        1.00000        1.000000      1.000000      1.000000      1.000000   \n",
                        "25%        1.00000        1.000000      1.000000      2.000000      1.000000   \n",
                        "50%        2.00000        3.000000      1.000000      3.000000      1.000000   \n",
                        "75%        2.00000        4.000000      2.000000      4.000000      2.000000   \n",
                        "max        2.00000       99.000000      9.000000      9.000000      6.000000   \n",
                        "\n",
                        "       ...        Pension  Self_emp_income.1  Total_income  Emp_insurance  \\\n",
                        "count  ...   72643.000000       72643.000000  7.264300e+04   72643.000000   \n",
                        "mean   ...    7665.033107        3901.038641  1.111956e+05    1747.700742   \n",
                        "std    ...   19847.702036       19728.923744  8.363631e+04    4964.163767   \n",
                        "min    ...       0.000000     -125000.000000 -9.565000e+04       0.000000   \n",
                        "25%    ...       0.000000           0.000000  5.568750e+04       0.000000   \n",
                        "50%    ...       0.000000           0.000000  9.337500e+04       0.000000   \n",
                        "75%    ...       0.000000           0.000000  1.452000e+05       0.000000   \n",
                        "max    ...  369000.000000      400000.000000  2.095000e+06   70000.000000   \n",
                        "\n",
                        "       Salary_wages  compensation    Family_mem        CFCOMP        CONDMP  \\\n",
                        "count  7.264300e+04  72643.000000  72643.000000  72643.000000  7.264300e+04   \n",
                        "mean   7.777053e+04    427.945914      2.797668      3.542255  9.624879e+07   \n",
                        "std    8.109349e+04   3126.157688      1.389884      1.564237  1.900139e+07   \n",
                        "min    0.000000e+00      0.000000      1.000000      1.000000  0.000000e+00   \n",
                        "25%    6.500000e+03      0.000000      2.000000      3.000000  1.000000e+08   \n",
                        "50%    6.250000e+04      0.000000      2.000000      4.000000  1.000000e+08   \n",
                        "75%    1.200000e+05      0.000000      4.000000      4.000000  1.000000e+08   \n",
                        "max    1.216500e+06  67500.000000      7.000000      9.000000  1.000000e+08   \n",
                        "\n",
                        "              RENTM  \n",
                        "count  7.264300e+04  \n",
                        "mean   7.790450e+07  \n",
                        "std    4.148903e+07  \n",
                        "min    0.000000e+00  \n",
                        "25%    1.000000e+08  \n",
                        "50%    1.000000e+08  \n",
                        "75%    1.000000e+08  \n",
                        "max    1.000000e+08  \n",
                        "\n",
                        "[8 rows x 38 columns]\n"
                    ]
                }
            ],
            "source": [
                "# Resumen estadístico de las columnas numéricas\n",
                "print(data.describe())\n"
            ]
        }
    ],
    "metadata": {
        "kernelspec": {
            "display_name": "Python 3",
            "language": "python",
            "name": "python3"
        },
        "language_info": {
            "codemirror_mode": {
                "name": "ipython",
                "version": 3
            },
            "file_extension": ".py",
            "mimetype": "text/x-python",
            "name": "python",
            "nbconvert_exporter": "python",
            "pygments_lexer": "ipython3",
            "version": "3.11.4"
        },
        "orig_nbformat": 4
    },
    "nbformat": 4,
    "nbformat_minor": 2
}
